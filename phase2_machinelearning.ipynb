{
 "cells": [
  {
   "cell_type": "markdown",
   "metadata": {},
   "source": [
    "# Classifying Mushrooms\n",
    "### Machine Learning Phase II"
   ]
  },
  {
   "cell_type": "markdown",
   "metadata": {},
   "source": [
    "#### Parvi Verma\n",
    "#### s3744398\n",
    "#### Pranav Karambelkar\n",
    "#### s3715015\n",
    "#### June 9, 2019\n",
    "\n",
    "## Objective:\n",
    "The main objective of this investigation is to solve the binary classfication problem of classifying mushrooms as edible or poisonous. This project consists of two phases: In Phase I, Data Preparation and Data Exploration was covered and Phase II is focused on fitting three Machine Learning Algorithms to solve the Binary Classification problem.\n",
    "\n",
    "## Source:\n",
    "Source of the dataset is as follows\n",
    "1. Parent Source: www.kaggle.com\n",
    "2. Link: https://www.kaggle.com/uciml/mushroom-classification/version/1\n",
    "3. The dataset was originally contributed to the UCI Machine Learning repository.\n",
    "4. Time Period: Donated to UCI ML 27th April 1987\n",
    "5. Link for UCI: https://archive.ics.uci.edu/ml/datasets/Mushroom\n",
    "\n",
    "## Dataset:\n",
    "This dataset is collected from The Audubon Society Field\n",
    "Guide to North American Mushrooms in 1981 and sourced by UCI Machine Learning Repository. The dataset consists of 8124 observations and 23 features out which 22 are Descriptive features and 1 Target feature with two classes denoted by `e` as `edible mushrooms` and `p` as `poisonous mushrooms`. All the features in this dataset are categorical including the target feature.\n",
    "\n",
    "## Methodology:\n",
    "Three Classifiers are used to classify the labels of target feature:\n",
    "\n",
    "1) K-Nearest Neighbor\n",
    "\n",
    "2) Decision Tree\n",
    "\n",
    "3) Gaussian Naive Bayes\n",
    "\n",
    "The modeling strategy begins by loading the preprocessed data from phase I and gaining insights about the data. Then the dataset was partitioned into set of descriptive features and target feature. In next step, The binary target feature was encoded into 0 for poisonous mushrooms and 1 for edible mushrooms. Further the descriptive features were one-hot-encoded. For ease of analysis, 5000 observations are randomly sampled out and then the data was split on 70-30 split.\n",
    "\n",
    "Before fitting any classifier on train data,10 most important features were selected with help of RFI feature selection technique. This was done because our data was giving 100% accuracy with 1-nearest neighbor classifier which implies that full set of features was leading to overfitting and hence it was a necessary requirement for this dataset to apply feature selection.\n",
    "\n",
    "Using the selected features hyperparameter tuning on K-Nearest Neighbors, Decision trees and Gaussian Naive Bayes was done using training data, we conducted a 5-fold cross-validation with 3 repeatitions. Furthermore, we conducted a 5-fold cross-validation on the test data and performed a paired t-test to check for if performance difference was statistically significant. The compare the performance of each classfier on the basis of accuracy, Confusion matrix, precision, F1-score and recall.\n",
    "\n",
    "## Insights gained from Phase I:\n",
    "In phase I,Through the preparaion of data it was noted that there were no inconsistencies in the dataset and the featues were renamed, and re-arranged for ease of analysis. Features like `‘veil-type’`, `‘stalk-surface-below-ring’` and `‘stalk-color-below-ring’` were removed on the basis of redundancy and insignificance. Through the exploration of data it was noted that the this is a balanced dataset with almost equal number of observations in both the classes with no specific feature dividing the target feature into two pure homogeneous groups.\n",
    "\n",
    "## Loading Dataset from Phase I:\n",
    "As Phase I was done in R, therefore the prepared filed is exported in .csv format and loaded into Jupiter Notebook directory. The dataset contains 8124 observations and 20 features out which 19 are Descriptive Features and 1 Target Feature."
   ]
  },
  {
   "cell_type": "code",
   "execution_count": 2,
   "metadata": {},
   "outputs": [
    {
     "data": {
      "text/html": [
       "<div>\n",
       "<style scoped>\n",
       "    .dataframe tbody tr th:only-of-type {\n",
       "        vertical-align: middle;\n",
       "    }\n",
       "\n",
       "    .dataframe tbody tr th {\n",
       "        vertical-align: top;\n",
       "    }\n",
       "\n",
       "    .dataframe thead th {\n",
       "        text-align: right;\n",
       "    }\n",
       "</style>\n",
       "<table border=\"1\" class=\"dataframe\">\n",
       "  <thead>\n",
       "    <tr style=\"text-align: right;\">\n",
       "      <th></th>\n",
       "      <th>cap-shape</th>\n",
       "      <th>cap-surface</th>\n",
       "      <th>cap-color</th>\n",
       "      <th>bruises</th>\n",
       "      <th>odor</th>\n",
       "      <th>gill-attachment</th>\n",
       "      <th>gill-spacing</th>\n",
       "      <th>gill-size</th>\n",
       "      <th>gill-color</th>\n",
       "      <th>stalk-shape</th>\n",
       "      <th>stalk-root</th>\n",
       "      <th>stalk-surface-above-ring</th>\n",
       "      <th>stalk-color-above-ring</th>\n",
       "      <th>veil-color</th>\n",
       "      <th>ring-number</th>\n",
       "      <th>ring-type</th>\n",
       "      <th>spore-print-color</th>\n",
       "      <th>population</th>\n",
       "      <th>habitat</th>\n",
       "      <th>target</th>\n",
       "    </tr>\n",
       "  </thead>\n",
       "  <tbody>\n",
       "    <tr>\n",
       "      <th>0</th>\n",
       "      <td>convex</td>\n",
       "      <td>smooth</td>\n",
       "      <td>brown</td>\n",
       "      <td>yes</td>\n",
       "      <td>pungent</td>\n",
       "      <td>free</td>\n",
       "      <td>close</td>\n",
       "      <td>narrow</td>\n",
       "      <td>black</td>\n",
       "      <td>enlarging</td>\n",
       "      <td>equal</td>\n",
       "      <td>smooth</td>\n",
       "      <td>white</td>\n",
       "      <td>white</td>\n",
       "      <td>one</td>\n",
       "      <td>pendant</td>\n",
       "      <td>black</td>\n",
       "      <td>scattered</td>\n",
       "      <td>urban</td>\n",
       "      <td>poisonous</td>\n",
       "    </tr>\n",
       "    <tr>\n",
       "      <th>1</th>\n",
       "      <td>convex</td>\n",
       "      <td>smooth</td>\n",
       "      <td>yellow</td>\n",
       "      <td>yes</td>\n",
       "      <td>almond</td>\n",
       "      <td>free</td>\n",
       "      <td>close</td>\n",
       "      <td>broad</td>\n",
       "      <td>black</td>\n",
       "      <td>enlarging</td>\n",
       "      <td>club</td>\n",
       "      <td>smooth</td>\n",
       "      <td>white</td>\n",
       "      <td>white</td>\n",
       "      <td>one</td>\n",
       "      <td>pendant</td>\n",
       "      <td>brown</td>\n",
       "      <td>numerous</td>\n",
       "      <td>grasses</td>\n",
       "      <td>edible</td>\n",
       "    </tr>\n",
       "    <tr>\n",
       "      <th>2</th>\n",
       "      <td>bell</td>\n",
       "      <td>smooth</td>\n",
       "      <td>white</td>\n",
       "      <td>yes</td>\n",
       "      <td>anise</td>\n",
       "      <td>free</td>\n",
       "      <td>close</td>\n",
       "      <td>broad</td>\n",
       "      <td>brown</td>\n",
       "      <td>enlarging</td>\n",
       "      <td>club</td>\n",
       "      <td>smooth</td>\n",
       "      <td>white</td>\n",
       "      <td>white</td>\n",
       "      <td>one</td>\n",
       "      <td>pendant</td>\n",
       "      <td>brown</td>\n",
       "      <td>numerous</td>\n",
       "      <td>meadows</td>\n",
       "      <td>edible</td>\n",
       "    </tr>\n",
       "    <tr>\n",
       "      <th>3</th>\n",
       "      <td>convex</td>\n",
       "      <td>scaly</td>\n",
       "      <td>white</td>\n",
       "      <td>yes</td>\n",
       "      <td>pungent</td>\n",
       "      <td>free</td>\n",
       "      <td>close</td>\n",
       "      <td>narrow</td>\n",
       "      <td>brown</td>\n",
       "      <td>enlarging</td>\n",
       "      <td>equal</td>\n",
       "      <td>smooth</td>\n",
       "      <td>white</td>\n",
       "      <td>white</td>\n",
       "      <td>one</td>\n",
       "      <td>pendant</td>\n",
       "      <td>black</td>\n",
       "      <td>scattered</td>\n",
       "      <td>urban</td>\n",
       "      <td>poisonous</td>\n",
       "    </tr>\n",
       "    <tr>\n",
       "      <th>4</th>\n",
       "      <td>convex</td>\n",
       "      <td>smooth</td>\n",
       "      <td>grey</td>\n",
       "      <td>no</td>\n",
       "      <td>none</td>\n",
       "      <td>free</td>\n",
       "      <td>crowded</td>\n",
       "      <td>broad</td>\n",
       "      <td>black</td>\n",
       "      <td>tapering</td>\n",
       "      <td>equal</td>\n",
       "      <td>smooth</td>\n",
       "      <td>white</td>\n",
       "      <td>white</td>\n",
       "      <td>one</td>\n",
       "      <td>evanescent</td>\n",
       "      <td>brown</td>\n",
       "      <td>abundant</td>\n",
       "      <td>grasses</td>\n",
       "      <td>edible</td>\n",
       "    </tr>\n",
       "  </tbody>\n",
       "</table>\n",
       "</div>"
      ],
      "text/plain": [
       "  cap-shape cap-surface cap-color bruises     odor gill-attachment  \\\n",
       "0    convex      smooth     brown     yes  pungent            free   \n",
       "1    convex      smooth    yellow     yes   almond            free   \n",
       "2      bell      smooth     white     yes    anise            free   \n",
       "3    convex       scaly     white     yes  pungent            free   \n",
       "4    convex      smooth      grey      no     none            free   \n",
       "\n",
       "  gill-spacing gill-size gill-color stalk-shape stalk-root  \\\n",
       "0        close    narrow      black   enlarging      equal   \n",
       "1        close     broad      black   enlarging       club   \n",
       "2        close     broad      brown   enlarging       club   \n",
       "3        close    narrow      brown   enlarging      equal   \n",
       "4      crowded     broad      black    tapering      equal   \n",
       "\n",
       "  stalk-surface-above-ring stalk-color-above-ring veil-color ring-number  \\\n",
       "0                   smooth                  white      white         one   \n",
       "1                   smooth                  white      white         one   \n",
       "2                   smooth                  white      white         one   \n",
       "3                   smooth                  white      white         one   \n",
       "4                   smooth                  white      white         one   \n",
       "\n",
       "    ring-type spore-print-color population  habitat     target  \n",
       "0     pendant             black  scattered    urban  poisonous  \n",
       "1     pendant             brown   numerous  grasses     edible  \n",
       "2     pendant             brown   numerous  meadows     edible  \n",
       "3     pendant             black  scattered    urban  poisonous  \n",
       "4  evanescent             brown   abundant  grasses     edible  "
      ]
     },
     "execution_count": 2,
     "metadata": {},
     "output_type": "execute_result"
    }
   ],
   "source": [
    "mush.head(5)"
   ]
  },
  {
   "cell_type": "markdown",
   "metadata": {},
   "source": [
    "## Partitioning Dataset:\n",
    "The dataset is partitioned into 'Data' containing all the Descriptive features and 'target' containing the Target Feature."
   ]
  },
  {
   "cell_type": "code",
   "execution_count": 3,
   "metadata": {},
   "outputs": [],
   "source": [
    "##Partitioning Dataset \n",
    "#Set of Descriptive Features \n",
    "Data = mush.drop(columns = 'target')\n",
    "#Target Feature\n",
    "target = mush['target']"
   ]
  },
  {
   "cell_type": "markdown",
   "metadata": {},
   "source": [
    "## Encoding Target Feature:\n",
    "Before carrying out modeling on the dataset, it is necessary to encode all the categorical features including target feature. \n",
    "Using sklearn, the target feature is label-encoded into 0 and 1 where `0` depicting `poisonous mushrooms` and `1` depicting `edible mushrooms`. As function labelEncoder() encodes the data as 0 and 1 in an alphabetical order of labels, therefore replacing `0` with `1` and `1` with `0` in order to correctly label the positive class of our dataset as `1` which is `edible mushrooms` and negative class as `0` which is `poisonous mushrooms`."
   ]
  },
  {
   "cell_type": "code",
   "execution_count": 4,
   "metadata": {},
   "outputs": [
    {
     "data": {
      "text/plain": [
       "(array([0, 1]), array([4208, 3916], dtype=int64))"
      ]
     },
     "execution_count": 4,
     "metadata": {},
     "output_type": "execute_result"
    }
   ],
   "source": [
    "## Encoding Target Feature\n",
    "## 1 = edible, 0 = poisonous \n",
    "from sklearn import preprocessing\n",
    "\n",
    "target = preprocessing.LabelEncoder().fit_transform(target)\n",
    "np.unique(target, return_counts = True)\n",
    "## as alphabetically it is edible=0 and poisonous = 1"
   ]
  },
  {
   "cell_type": "code",
   "execution_count": 5,
   "metadata": {},
   "outputs": [
    {
     "data": {
      "text/plain": [
       "(array([0, 1], dtype=int64), array([3916, 4208], dtype=int64))"
      ]
     },
     "execution_count": 5,
     "metadata": {},
     "output_type": "execute_result"
    }
   ],
   "source": [
    "## replacing it with edible = 1 and poisonous = 0\n",
    "target_encoded = pd.Series(target).replace({1: 0, 0: 1}).values\n",
    "target_encoded\n",
    "np.unique(target_encoded, return_counts = True)"
   ]
  },
  {
   "cell_type": "markdown",
   "metadata": {},
   "source": [
    "Now, edible becomes 1 and poisonous becomes 0 after replacing."
   ]
  },
  {
   "cell_type": "markdown",
   "metadata": {},
   "source": [
    "## One-Hot-Encoding Nominal Features: \n",
    "This type encoding technique does not assume any arithmetic relationship between different classes. As all the features are nominal descriptive features, therefore one-hot Encoding each nominal Decriptive feature.\n",
    "\n",
    "Creating list of all the columns with nominal values."
   ]
  },
  {
   "cell_type": "code",
   "execution_count": 6,
   "metadata": {},
   "outputs": [
    {
     "data": {
      "text/plain": [
       "['cap-shape',\n",
       " 'cap-surface',\n",
       " 'cap-color',\n",
       " 'bruises',\n",
       " 'odor',\n",
       " 'gill-attachment',\n",
       " 'gill-spacing',\n",
       " 'gill-size',\n",
       " 'gill-color',\n",
       " 'stalk-shape',\n",
       " 'stalk-root',\n",
       " 'stalk-surface-above-ring',\n",
       " 'stalk-color-above-ring',\n",
       " 'veil-color',\n",
       " 'ring-number',\n",
       " 'ring-type',\n",
       " 'spore-print-color',\n",
       " 'population',\n",
       " 'habitat']"
      ]
     },
     "execution_count": 6,
     "metadata": {},
     "output_type": "execute_result"
    }
   ],
   "source": [
    "## One-Hot-Encoding Descriptive Features \n",
    "#Data = pd.DataFrame(data=data)\n",
    "# getting the list of all the categorical descriptive features\n",
    "categorical_cols = Data.columns[Data.dtypes==object].tolist()\n",
    "categorical_cols"
   ]
  },
  {
   "cell_type": "markdown",
   "metadata": {},
   "source": [
    "Using get_dummies() method, One-Hot Encoding all the nominal descriptive features."
   ]
  },
  {
   "cell_type": "code",
   "execution_count": 7,
   "metadata": {},
   "outputs": [],
   "source": [
    "Data = pd.get_dummies(Data, columns=['cap-shape'])\n",
    "Data = pd.get_dummies(Data, columns=['cap-surface'])\n",
    "Data = pd.get_dummies(Data, columns=['cap-color'])\n",
    "Data = pd.get_dummies(Data, columns=['bruises'])\n",
    "Data = pd.get_dummies(Data, columns=['odor'])\n",
    "Data = pd.get_dummies(Data, columns=['gill-attachment'])\n",
    "Data = pd.get_dummies(Data, columns=['gill-spacing'])\n",
    "Data = pd.get_dummies(Data, columns=['gill-size'])\n",
    "Data = pd.get_dummies(Data, columns=['gill-color'])\n",
    "Data = pd.get_dummies(Data, columns=['stalk-shape'])\n",
    "Data = pd.get_dummies(Data, columns=['stalk-root'])\n",
    "Data = pd.get_dummies(Data, columns=['stalk-surface-above-ring'])\n",
    "Data = pd.get_dummies(Data, columns=['stalk-color-above-ring'])\n",
    "Data = pd.get_dummies(Data, columns=['veil-color'])\n",
    "Data = pd.get_dummies(Data, columns=['ring-number'])\n",
    "Data = pd.get_dummies(Data, columns=['ring-type'])\n",
    "Data = pd.get_dummies(Data, columns=['spore-print-color'])\n",
    "Data = pd.get_dummies(Data, columns=['population'])\n",
    "Data = pd.get_dummies(Data, columns=['habitat'])"
   ]
  },
  {
   "cell_type": "markdown",
   "metadata": {},
   "source": [
    "After one-hot encoding, there are 103 descriptive features in the dataset 'Data'."
   ]
  },
  {
   "cell_type": "code",
   "execution_count": 8,
   "metadata": {},
   "outputs": [
    {
     "data": {
      "text/html": [
       "<div>\n",
       "<style scoped>\n",
       "    .dataframe tbody tr th:only-of-type {\n",
       "        vertical-align: middle;\n",
       "    }\n",
       "\n",
       "    .dataframe tbody tr th {\n",
       "        vertical-align: top;\n",
       "    }\n",
       "\n",
       "    .dataframe thead th {\n",
       "        text-align: right;\n",
       "    }\n",
       "</style>\n",
       "<table border=\"1\" class=\"dataframe\">\n",
       "  <thead>\n",
       "    <tr style=\"text-align: right;\">\n",
       "      <th></th>\n",
       "      <th>cap-shape_bell</th>\n",
       "      <th>cap-shape_conical</th>\n",
       "      <th>cap-shape_convex</th>\n",
       "      <th>cap-shape_flat</th>\n",
       "      <th>cap-shape_knobbed</th>\n",
       "      <th>cap-shape_sunken</th>\n",
       "      <th>cap-surface_fibrous</th>\n",
       "      <th>cap-surface_grooves</th>\n",
       "      <th>cap-surface_scaly</th>\n",
       "      <th>cap-surface_smooth</th>\n",
       "      <th>...</th>\n",
       "      <th>population_scattered</th>\n",
       "      <th>population_several</th>\n",
       "      <th>population_solitary</th>\n",
       "      <th>habitat_grasses</th>\n",
       "      <th>habitat_leaves</th>\n",
       "      <th>habitat_meadows</th>\n",
       "      <th>habitat_paths</th>\n",
       "      <th>habitat_urban</th>\n",
       "      <th>habitat_waste</th>\n",
       "      <th>habitat_woods</th>\n",
       "    </tr>\n",
       "  </thead>\n",
       "  <tbody>\n",
       "    <tr>\n",
       "      <th>0</th>\n",
       "      <td>0</td>\n",
       "      <td>0</td>\n",
       "      <td>1</td>\n",
       "      <td>0</td>\n",
       "      <td>0</td>\n",
       "      <td>0</td>\n",
       "      <td>0</td>\n",
       "      <td>0</td>\n",
       "      <td>0</td>\n",
       "      <td>1</td>\n",
       "      <td>...</td>\n",
       "      <td>1</td>\n",
       "      <td>0</td>\n",
       "      <td>0</td>\n",
       "      <td>0</td>\n",
       "      <td>0</td>\n",
       "      <td>0</td>\n",
       "      <td>0</td>\n",
       "      <td>1</td>\n",
       "      <td>0</td>\n",
       "      <td>0</td>\n",
       "    </tr>\n",
       "    <tr>\n",
       "      <th>1</th>\n",
       "      <td>0</td>\n",
       "      <td>0</td>\n",
       "      <td>1</td>\n",
       "      <td>0</td>\n",
       "      <td>0</td>\n",
       "      <td>0</td>\n",
       "      <td>0</td>\n",
       "      <td>0</td>\n",
       "      <td>0</td>\n",
       "      <td>1</td>\n",
       "      <td>...</td>\n",
       "      <td>0</td>\n",
       "      <td>0</td>\n",
       "      <td>0</td>\n",
       "      <td>1</td>\n",
       "      <td>0</td>\n",
       "      <td>0</td>\n",
       "      <td>0</td>\n",
       "      <td>0</td>\n",
       "      <td>0</td>\n",
       "      <td>0</td>\n",
       "    </tr>\n",
       "    <tr>\n",
       "      <th>2</th>\n",
       "      <td>1</td>\n",
       "      <td>0</td>\n",
       "      <td>0</td>\n",
       "      <td>0</td>\n",
       "      <td>0</td>\n",
       "      <td>0</td>\n",
       "      <td>0</td>\n",
       "      <td>0</td>\n",
       "      <td>0</td>\n",
       "      <td>1</td>\n",
       "      <td>...</td>\n",
       "      <td>0</td>\n",
       "      <td>0</td>\n",
       "      <td>0</td>\n",
       "      <td>0</td>\n",
       "      <td>0</td>\n",
       "      <td>1</td>\n",
       "      <td>0</td>\n",
       "      <td>0</td>\n",
       "      <td>0</td>\n",
       "      <td>0</td>\n",
       "    </tr>\n",
       "    <tr>\n",
       "      <th>3</th>\n",
       "      <td>0</td>\n",
       "      <td>0</td>\n",
       "      <td>1</td>\n",
       "      <td>0</td>\n",
       "      <td>0</td>\n",
       "      <td>0</td>\n",
       "      <td>0</td>\n",
       "      <td>0</td>\n",
       "      <td>1</td>\n",
       "      <td>0</td>\n",
       "      <td>...</td>\n",
       "      <td>1</td>\n",
       "      <td>0</td>\n",
       "      <td>0</td>\n",
       "      <td>0</td>\n",
       "      <td>0</td>\n",
       "      <td>0</td>\n",
       "      <td>0</td>\n",
       "      <td>1</td>\n",
       "      <td>0</td>\n",
       "      <td>0</td>\n",
       "    </tr>\n",
       "    <tr>\n",
       "      <th>4</th>\n",
       "      <td>0</td>\n",
       "      <td>0</td>\n",
       "      <td>1</td>\n",
       "      <td>0</td>\n",
       "      <td>0</td>\n",
       "      <td>0</td>\n",
       "      <td>0</td>\n",
       "      <td>0</td>\n",
       "      <td>0</td>\n",
       "      <td>1</td>\n",
       "      <td>...</td>\n",
       "      <td>0</td>\n",
       "      <td>0</td>\n",
       "      <td>0</td>\n",
       "      <td>1</td>\n",
       "      <td>0</td>\n",
       "      <td>0</td>\n",
       "      <td>0</td>\n",
       "      <td>0</td>\n",
       "      <td>0</td>\n",
       "      <td>0</td>\n",
       "    </tr>\n",
       "  </tbody>\n",
       "</table>\n",
       "<p>5 rows × 103 columns</p>\n",
       "</div>"
      ],
      "text/plain": [
       "   cap-shape_bell  cap-shape_conical  cap-shape_convex  cap-shape_flat  \\\n",
       "0               0                  0                 1               0   \n",
       "1               0                  0                 1               0   \n",
       "2               1                  0                 0               0   \n",
       "3               0                  0                 1               0   \n",
       "4               0                  0                 1               0   \n",
       "\n",
       "   cap-shape_knobbed  cap-shape_sunken  cap-surface_fibrous  \\\n",
       "0                  0                 0                    0   \n",
       "1                  0                 0                    0   \n",
       "2                  0                 0                    0   \n",
       "3                  0                 0                    0   \n",
       "4                  0                 0                    0   \n",
       "\n",
       "   cap-surface_grooves  cap-surface_scaly  cap-surface_smooth      ...        \\\n",
       "0                    0                  0                   1      ...         \n",
       "1                    0                  0                   1      ...         \n",
       "2                    0                  0                   1      ...         \n",
       "3                    0                  1                   0      ...         \n",
       "4                    0                  0                   1      ...         \n",
       "\n",
       "   population_scattered  population_several  population_solitary  \\\n",
       "0                     1                   0                    0   \n",
       "1                     0                   0                    0   \n",
       "2                     0                   0                    0   \n",
       "3                     1                   0                    0   \n",
       "4                     0                   0                    0   \n",
       "\n",
       "   habitat_grasses  habitat_leaves  habitat_meadows  habitat_paths  \\\n",
       "0                0               0                0              0   \n",
       "1                1               0                0              0   \n",
       "2                0               0                1              0   \n",
       "3                0               0                0              0   \n",
       "4                1               0                0              0   \n",
       "\n",
       "   habitat_urban  habitat_waste  habitat_woods  \n",
       "0              1              0              0  \n",
       "1              0              0              0  \n",
       "2              0              0              0  \n",
       "3              1              0              0  \n",
       "4              0              0              0  \n",
       "\n",
       "[5 rows x 103 columns]"
      ]
     },
     "execution_count": 8,
     "metadata": {},
     "output_type": "execute_result"
    }
   ],
   "source": [
    "Data.head(5)"
   ]
  },
  {
   "cell_type": "markdown",
   "metadata": {},
   "source": [
    "## Scaling:\n",
    "As our data does not have any numerical features therefore scaling is not applied here.\n"
   ]
  },
  {
   "cell_type": "markdown",
   "metadata": {},
   "source": [
    "## Sampling Observations:\n",
    "For ease of analysis only 5000 observations are randomly sampled out. 'Data_sample' and 'target_sample' are two sets created after randomly selecting small subset out of entire data.\n",
    "\n",
    "The function `sample()` in `pandas` is used for randomly selecting 5000 observation. To pick same set of observations in both `Data_sample` and `target_sample` sets, the value for random state is set to be same.\n",
    "\n",
    "Here both datasets are converted into `pandas` data frame, on which `sample()` function in pandas is applied and using the `values` method, both sets are converted back to `NumPy` array."
   ]
  },
  {
   "cell_type": "code",
   "execution_count": 9,
   "metadata": {},
   "outputs": [
    {
     "name": "stdout",
     "output_type": "stream",
     "text": [
      "<type 'numpy.ndarray'>\n",
      "<type 'numpy.ndarray'>\n",
      "(5000L, 103L)\n",
      "(5000L, 1L)\n"
     ]
    }
   ],
   "source": [
    "Data_sample = pd.DataFrame(Data).sample(n=5000, random_state=8).values\n",
    "target_sample = pd.DataFrame(target_encoded).sample(n=5000, random_state=8).values\n",
    "print(type(Data_sample))\n",
    "print(type(target_sample))\n",
    "print(Data_sample.shape)\n",
    "print(target_sample.shape)"
   ]
  },
  {
   "cell_type": "markdown",
   "metadata": {},
   "source": [
    "## Train-Test Split:\n",
    "The Data_sample and target_sample datasets with 5000 observations are split under 70:30 split ratio, 70% of data is train data and 30% is test data where train data is used to train the model and test data is used by learnt model to correctly predict the labels and evaluate the performance and accuracy."
   ]
  },
  {
   "cell_type": "code",
   "execution_count": 10,
   "metadata": {},
   "outputs": [],
   "source": [
    "from sklearn.model_selection import train_test_split\n",
    "\n",
    "D_train, D_test, t_train, t_test = train_test_split(Data_sample, \n",
    "                                                    target_sample, \n",
    "                                                    test_size = 0.3,\n",
    "                                                    random_state=999)"
   ]
  },
  {
   "cell_type": "markdown",
   "metadata": {},
   "source": [
    "## K-Fold Cross Validation\n",
    "K-fold Cross Validation is used on entire dataset where entire dataset is divided into K equal-sized partitions and at every iteration a chunk of data is taken as test dataset and rest k-1 chunks are taken as train dataset.\n",
    "Here 5-fold Cross Validation is applied with help of `RepeatedStratifiedKFold function` imported from sklearn.model_selection which randomly splits the data into 5 equal-sized chunks and repeats for 3 times.\n",
    "Further this cross validation method is used within cross_val_score() function in sklearn.model_selection to find the the mean cross-validation performance."
   ]
  },
  {
   "cell_type": "code",
   "execution_count": 11,
   "metadata": {},
   "outputs": [],
   "source": [
    "from sklearn.model_selection import cross_val_score, RepeatedStratifiedKFold\n",
    "cv_method = RepeatedStratifiedKFold(n_splits=5, \n",
    "                                     n_repeats=3,\n",
    "                                     random_state=999)"
   ]
  },
  {
   "cell_type": "markdown",
   "metadata": {},
   "source": [
    "## Performance of KNN with Full Set of Features:\n",
    "Using 1 nearest neighbor classifier with 5-fold cross validation and 3 repetitions where cross validation is applied with help of cross_val_score() function in sklearn.model_selection. \n",
    "The mean performance accuracy with full set of features is found to be 100% which implies that full set of features is leading to overfitting and hence it is a necessary requirement for this dataset to apply feature selection. "
   ]
  },
  {
   "cell_type": "code",
   "execution_count": 12,
   "metadata": {},
   "outputs": [
    {
     "data": {
      "text/plain": [
       "1.0"
      ]
     },
     "execution_count": 12,
     "metadata": {},
     "output_type": "execute_result"
    }
   ],
   "source": [
    "import warnings\n",
    "warnings.filterwarnings(\"ignore\")\n",
    "from sklearn.neighbors import KNeighborsClassifier\n",
    "\n",
    "clf = KNeighborsClassifier(n_neighbors=1)\n",
    "cv_results_full = cross_val_score(estimator=clf,\n",
    "                             X=Data_sample,\n",
    "                             y=target_sample, \n",
    "                             cv=cv_method, \n",
    "                             scoring='accuracy')\n",
    "cv_results_full\n",
    "cv_results_full.mean().round(3)"
   ]
  },
  {
   "cell_type": "markdown",
   "metadata": {},
   "source": [
    "## Feature Selection: Random Forest Importance\n",
    "Random Forest Importance is one of the most powerful techniques for feature selection. This technique is selected for this report because RFI(as filter method) works independent of any Machine learning algorithms and selects the most important set of features by considering interaction between all descriptive features and target feature.\n",
    "Here to look upon 10 most important features, RFI is applied over full dataset. \n",
    "\n",
    "Performing Random Forest Importance Feature selection technique using 100 trees."
   ]
  },
  {
   "cell_type": "code",
   "execution_count": 13,
   "metadata": {},
   "outputs": [
    {
     "data": {
      "text/plain": [
       "array(['odor_none', 'odor_foul', 'stalk-surface-above-ring_silky',\n",
       "       'gill-size_broad', 'gill-size_narrow',\n",
       "       'spore-print-color_chocolate', 'bruises_no', 'bruises_yes',\n",
       "       'ring-type_pendant', 'gill-color_buff'], dtype=object)"
      ]
     },
     "execution_count": 13,
     "metadata": {},
     "output_type": "execute_result"
    }
   ],
   "source": [
    "import numpy as np\n",
    "import pandas as pd\n",
    "import sklearn.metrics as metrics\n",
    "from sklearn.ensemble import RandomForestClassifier\n",
    "from sklearn import preprocessing\n",
    "from sklearn import feature_selection as fs\n",
    "\n",
    "## Random Forest\n",
    "num_features = 10\n",
    "model_rfi = RandomForestClassifier(n_estimators=100)\n",
    "model_rfi.fit(Data_sample, target_sample)\n",
    "fs_indices_rfi = np.argsort(model_rfi.feature_importances_)[::-1][0:num_features]\n",
    "best_features_rfi = Data.columns[fs_indices_rfi].values\n",
    "best_features_rfi"
   ]
  },
  {
   "cell_type": "code",
   "execution_count": 14,
   "metadata": {},
   "outputs": [
    {
     "data": {
      "text/plain": [
       "array([0.21210606, 0.07361107, 0.06309581, 0.05159904, 0.04684217,\n",
       "       0.0383101 , 0.03102275, 0.02717501, 0.02682927, 0.02373116])"
      ]
     },
     "execution_count": 14,
     "metadata": {},
     "output_type": "execute_result"
    }
   ],
   "source": [
    "feature_importances_rfi = model_rfi.feature_importances_[fs_indices_rfi]\n",
    "feature_importances_rfi"
   ]
  },
  {
   "cell_type": "markdown",
   "metadata": {},
   "source": [
    "Here are the 10 best features selected by RFI with their importance score."
   ]
  },
  {
   "cell_type": "code",
   "execution_count": 15,
   "metadata": {},
   "outputs": [
    {
     "data": {
      "image/png": "[encoded data removed]",
      "text/plain": [
       "<Figure size 432x288 with 1 Axes>"
      ]
     },
     "metadata": {
      "needs_background": "light"
     },
     "output_type": "display_data"
    }
   ],
   "source": [
    "import numpy as np\n",
    "y_pos = np.arange(len(best_features_rfi))\n",
    "plt.bar(y_pos,feature_importances_rfi, align='center', alpha=0.5)\n",
    "plt.xticks(y_pos, best_features_rfi, rotation = 90)\n",
    "plt.ylabel('Importance')\n",
    "plt.title('Random Forest: Selected important feature')\n",
    "plt.show()"
   ]
  },
  {
   "cell_type": "markdown",
   "metadata": {},
   "source": [
    "## Hyperparameter Tuning\n",
    "### K Nearest Neighbor (KNN)\n",
    "In Hyperparameter tuning for KNN, we define a set of parameters and model for grid search.\n",
    "Parameters for Hyperparameter Tuning of KNN are as follows:\n",
    "* k : number of nearest neighbors\n",
    "* p : distance metric\n",
    "\n",
    "Here values for k is considered from 1 to 7 and values for p as `1(Manhattan), 2(Euclidean) and 5(Minkowski)`. \n",
    "Next, these set of parameters and KNeighborsClassifier() as model are passed into GridSearchCV() function with cross validation method discussed above and roc_auc as scoring metric.\n",
    "Here roc_auc is used as scoring metric because it is robust to imbalanced dataset where negative class dominates positive class.Though our data is balanced but to make the classifier robust against all types of dataset this is used."
   ]
  },
  {
   "cell_type": "code",
   "execution_count": 16,
   "metadata": {},
   "outputs": [],
   "source": [
    "## KNN \n",
    "params_KNN = {'n_neighbors': [1, 2, 3, 4, 5, 6, 7], \n",
    "              'p': [1, 2, 5]}\n",
    "from sklearn.model_selection import GridSearchCV\n",
    "from sklearn.model_selection import RepeatedStratifiedKFold\n",
    "\n",
    "gs_KNN = GridSearchCV(estimator=KNeighborsClassifier(), \n",
    "                      param_grid=params_KNN, \n",
    "                      cv=cv_method,\n",
    "                      verbose=1,  # verbose: the higher, the more messages\n",
    "                      scoring='roc_auc', \n",
    "                      return_train_score=True)\n"
   ]
  },
  {
   "cell_type": "markdown",
   "metadata": {},
   "source": [
    "Now, fitting grid search KNN on selected set of 10 features by RFI."
   ]
  },
  {
   "cell_type": "code",
   "execution_count": 17,
   "metadata": {},
   "outputs": [
    {
     "name": "stdout",
     "output_type": "stream",
     "text": [
      "Fitting 15 folds for each of 21 candidates, totalling 315 fits\n"
     ]
    },
    {
     "name": "stderr",
     "output_type": "stream",
     "text": [
      "[Parallel(n_jobs=1)]: Using backend SequentialBackend with 1 concurrent workers.\n"
     ]
    },
    {
     "name": "stdout",
     "output_type": "stream",
     "text": [
      "\n",
      "Best Parameters for K-Nearest Neighbor\n",
      "{'n_neighbors': 7, 'p': 1}\n",
      "\n",
      "Best Score for K-Nearest Neighbor\n",
      "0.9899128601159204\n",
      "\n",
      " Grid Search Results for  K-Nearest Neighbor\n",
      "    n_neighbors  p  test_score     metric\n",
      "0             1  1    0.965176  Manhattan\n",
      "1             1  2    0.965176  Euclidean\n",
      "2             1  5    0.965176  Minkowski\n",
      "3             2  1    0.977164  Manhattan\n",
      "4             2  2    0.977164  Euclidean\n",
      "5             2  5    0.977164  Minkowski\n",
      "6             3  1    0.981388  Manhattan\n",
      "7             3  2    0.981388  Euclidean\n",
      "8             3  5    0.981388  Minkowski\n",
      "9             4  1    0.988483  Manhattan\n",
      "10            4  2    0.988483  Euclidean\n",
      "11            4  5    0.988483  Minkowski\n",
      "12            5  1    0.989534  Manhattan\n",
      "13            5  2    0.989534  Euclidean\n",
      "14            5  5    0.989534  Minkowski\n",
      "15            6  1    0.989579  Manhattan\n",
      "16            6  2    0.989579  Euclidean\n",
      "17            6  5    0.989579  Minkowski\n",
      "18            7  1    0.989913  Manhattan\n",
      "19            7  2    0.989913  Euclidean\n",
      "20            7  5    0.989913  Minkowski\n"
     ]
    },
    {
     "name": "stderr",
     "output_type": "stream",
     "text": [
      "[Parallel(n_jobs=1)]: Done 315 out of 315 | elapsed:  1.4min finished\n"
     ]
    }
   ],
   "source": [
    "## fitting hyperparameter tuning on to selected features\n",
    "gs_KNN.fit(D_train[:, fs_indices_rfi], t_train);\n",
    "print(\"\\nBest Parameters for K-Nearest Neighbor\") \n",
    "print(gs_KNN.best_params_)\n",
    "print(\"\\nBest Score for K-Nearest Neighbor\")\n",
    "print(gs_KNN.best_score_)\n",
    "gs_KNN.cv_results_['mean_test_score']\n",
    "results_KNN = pd.DataFrame(gs_KNN.cv_results_['params'])\n",
    "results_KNN['test_score'] = gs_KNN.cv_results_['mean_test_score']\n",
    "results_KNN['metric'] = results_KNN['p'].replace([1,2,5], [\"Manhattan\", \"Euclidean\", \"Minkowski\"])\n",
    "print(\"\\n Grid Search Results for  K-Nearest Neighbor\")\n",
    "print(results_KNN)"
   ]
  },
  {
   "cell_type": "markdown",
   "metadata": {},
   "source": [
    "After 5-fold stratified cross validation with 3 repetitions, We observe that the best parameters for KNN are found to be k = 7 and p = 1 (Manhattan distance metric).The mean AUC score with the best parameters is found to be 0.9899.\n",
    "\n",
    "Plotting the Grid Search Result for each iteration. "
   ]
  },
  {
   "cell_type": "code",
   "execution_count": 18,
   "metadata": {},
   "outputs": [
    {
     "name": "stdout",
     "output_type": "stream",
     "text": [
      "\n",
      "KNN Performance Comparison\n"
     ]
    },
    {
     "data": {
      "text/plain": [
       "<matplotlib.axes._subplots.AxesSubplot at 0xd374f98>"
      ]
     },
     "execution_count": 18,
     "metadata": {},
     "output_type": "execute_result"
    },
    {
     "data": {
      "image/png": "[encoded data removed]",
      "text/plain": [
       "<Figure size 432x288 with 1 Axes>"
      ]
     },
     "metadata": {
      "needs_background": "light"
     },
     "output_type": "display_data"
    }
   ],
   "source": [
    "print(\"\\nKNN Performance Comparison\")\n",
    "df_knn = results_KNN.pivot(index='n_neighbors',columns='metric',values='test_score')\n",
    "df_knn.plot()"
   ]
  },
  {
   "cell_type": "markdown",
   "metadata": {},
   "source": [
    "The plot confirms that k = 7 with the Manhattan distance metric p = 1 performs the best out of all other combinations. As the values for test-score was same for all three p-values for each k, therefore the plot shows superimposed lines for all three distance metric."
   ]
  },
  {
   "cell_type": "markdown",
   "metadata": {},
   "source": [
    "### Decision Tree (DT)\n",
    "In Hyperparameter tuning for DT, we perform a grid search on parameters. The Parameters for Hyperparameter Tuning of DT are as follows:\n",
    "\n",
    "criterion : includes criterion such as Gini Index and Entropy\n",
    "\n",
    "maximum depth: integer metric\n",
    "\n",
    "min_samples_split : The minimum number of samples needed to split an internal node\n",
    "\n",
    "Here the criterion are taken as Gini and Entropy. The gini index and Entropy would give us a probability of an object being classified to a particular class, where the least possible value considered as ideal for the root node. The maximum depth can take any integer value as well as none and we have used it up to 8. The min samples split has been used with its default value of 2. Next, these set of parameters are passed into GridSearchCV() function with cross validation method discussed above and roc_auc as scoring metric.\n",
    "Here roc_auc is used as scoring metric because it is robust to imbalanced dataset where negative class dominates positive class.Though our data is balanced but to make the classifier robust against all types of dataset this is used."
   ]
  },
  {
   "cell_type": "code",
   "execution_count": 19,
   "metadata": {},
   "outputs": [],
   "source": [
    "from sklearn.tree import DecisionTreeClassifier\n",
    "df_classifier = DecisionTreeClassifier(random_state=999)\n",
    "params_DT = {'criterion': ['gini', 'entropy'],\n",
    "             'max_depth': [1, 2, 3, 4, 5, 6, 7, 8],\n",
    "             'min_samples_split': [2]}\n",
    "gs_DT = GridSearchCV(estimator=df_classifier, \n",
    "                     param_grid=params_DT, \n",
    "                     cv=cv_method,\n",
    "                     verbose=1, \n",
    "                     scoring='roc_auc')"
   ]
  },
  {
   "cell_type": "markdown",
   "metadata": {},
   "source": [
    "Now, fitting grid search DT on selected set of 10 features by RFI."
   ]
  },
  {
   "cell_type": "code",
   "execution_count": 20,
   "metadata": {},
   "outputs": [
    {
     "name": "stdout",
     "output_type": "stream",
     "text": [
      "Fitting 15 folds for each of 16 candidates, totalling 240 fits\n"
     ]
    },
    {
     "name": "stderr",
     "output_type": "stream",
     "text": [
      "[Parallel(n_jobs=1)]: Using backend SequentialBackend with 1 concurrent workers.\n"
     ]
    },
    {
     "name": "stdout",
     "output_type": "stream",
     "text": [
      "\n",
      "Best Parameters for Decision Tree\n",
      "{'min_samples_split': 2, 'criterion': 'gini', 'max_depth': 6}\n",
      "\n",
      "Best Score for Decision Tree\n",
      "0.9947373447460229\n",
      "\n",
      "Grid Search Results for Decision Tree\n"
     ]
    },
    {
     "name": "stderr",
     "output_type": "stream",
     "text": [
      "[Parallel(n_jobs=1)]: Done 240 out of 240 | elapsed:    1.9s finished\n"
     ]
    },
    {
     "data": {
      "text/html": [
       "<div>\n",
       "<style scoped>\n",
       "    .dataframe tbody tr th:only-of-type {\n",
       "        vertical-align: middle;\n",
       "    }\n",
       "\n",
       "    .dataframe tbody tr th {\n",
       "        vertical-align: top;\n",
       "    }\n",
       "\n",
       "    .dataframe thead th {\n",
       "        text-align: right;\n",
       "    }\n",
       "</style>\n",
       "<table border=\"1\" class=\"dataframe\">\n",
       "  <thead>\n",
       "    <tr style=\"text-align: right;\">\n",
       "      <th></th>\n",
       "      <th>criterion</th>\n",
       "      <th>max_depth</th>\n",
       "      <th>min_samples_split</th>\n",
       "      <th>test_score</th>\n",
       "    </tr>\n",
       "  </thead>\n",
       "  <tbody>\n",
       "    <tr>\n",
       "      <th>0</th>\n",
       "      <td>gini</td>\n",
       "      <td>1</td>\n",
       "      <td>2</td>\n",
       "      <td>0.889920</td>\n",
       "    </tr>\n",
       "    <tr>\n",
       "      <th>1</th>\n",
       "      <td>gini</td>\n",
       "      <td>2</td>\n",
       "      <td>2</td>\n",
       "      <td>0.972829</td>\n",
       "    </tr>\n",
       "    <tr>\n",
       "      <th>2</th>\n",
       "      <td>gini</td>\n",
       "      <td>3</td>\n",
       "      <td>2</td>\n",
       "      <td>0.984343</td>\n",
       "    </tr>\n",
       "    <tr>\n",
       "      <th>3</th>\n",
       "      <td>gini</td>\n",
       "      <td>4</td>\n",
       "      <td>2</td>\n",
       "      <td>0.993606</td>\n",
       "    </tr>\n",
       "    <tr>\n",
       "      <th>4</th>\n",
       "      <td>gini</td>\n",
       "      <td>5</td>\n",
       "      <td>2</td>\n",
       "      <td>0.994101</td>\n",
       "    </tr>\n",
       "    <tr>\n",
       "      <th>5</th>\n",
       "      <td>gini</td>\n",
       "      <td>6</td>\n",
       "      <td>2</td>\n",
       "      <td>0.994737</td>\n",
       "    </tr>\n",
       "    <tr>\n",
       "      <th>6</th>\n",
       "      <td>gini</td>\n",
       "      <td>7</td>\n",
       "      <td>2</td>\n",
       "      <td>0.994737</td>\n",
       "    </tr>\n",
       "    <tr>\n",
       "      <th>7</th>\n",
       "      <td>gini</td>\n",
       "      <td>8</td>\n",
       "      <td>2</td>\n",
       "      <td>0.994737</td>\n",
       "    </tr>\n",
       "    <tr>\n",
       "      <th>8</th>\n",
       "      <td>entropy</td>\n",
       "      <td>1</td>\n",
       "      <td>2</td>\n",
       "      <td>0.889920</td>\n",
       "    </tr>\n",
       "    <tr>\n",
       "      <th>9</th>\n",
       "      <td>entropy</td>\n",
       "      <td>2</td>\n",
       "      <td>2</td>\n",
       "      <td>0.972829</td>\n",
       "    </tr>\n",
       "    <tr>\n",
       "      <th>10</th>\n",
       "      <td>entropy</td>\n",
       "      <td>3</td>\n",
       "      <td>2</td>\n",
       "      <td>0.984343</td>\n",
       "    </tr>\n",
       "    <tr>\n",
       "      <th>11</th>\n",
       "      <td>entropy</td>\n",
       "      <td>4</td>\n",
       "      <td>2</td>\n",
       "      <td>0.993606</td>\n",
       "    </tr>\n",
       "    <tr>\n",
       "      <th>12</th>\n",
       "      <td>entropy</td>\n",
       "      <td>5</td>\n",
       "      <td>2</td>\n",
       "      <td>0.994101</td>\n",
       "    </tr>\n",
       "    <tr>\n",
       "      <th>13</th>\n",
       "      <td>entropy</td>\n",
       "      <td>6</td>\n",
       "      <td>2</td>\n",
       "      <td>0.994737</td>\n",
       "    </tr>\n",
       "    <tr>\n",
       "      <th>14</th>\n",
       "      <td>entropy</td>\n",
       "      <td>7</td>\n",
       "      <td>2</td>\n",
       "      <td>0.994737</td>\n",
       "    </tr>\n",
       "    <tr>\n",
       "      <th>15</th>\n",
       "      <td>entropy</td>\n",
       "      <td>8</td>\n",
       "      <td>2</td>\n",
       "      <td>0.994737</td>\n",
       "    </tr>\n",
       "  </tbody>\n",
       "</table>\n",
       "</div>"
      ],
      "text/plain": [
       "   criterion  max_depth  min_samples_split  test_score\n",
       "0       gini          1                  2    0.889920\n",
       "1       gini          2                  2    0.972829\n",
       "2       gini          3                  2    0.984343\n",
       "3       gini          4                  2    0.993606\n",
       "4       gini          5                  2    0.994101\n",
       "5       gini          6                  2    0.994737\n",
       "6       gini          7                  2    0.994737\n",
       "7       gini          8                  2    0.994737\n",
       "8    entropy          1                  2    0.889920\n",
       "9    entropy          2                  2    0.972829\n",
       "10   entropy          3                  2    0.984343\n",
       "11   entropy          4                  2    0.993606\n",
       "12   entropy          5                  2    0.994101\n",
       "13   entropy          6                  2    0.994737\n",
       "14   entropy          7                  2    0.994737\n",
       "15   entropy          8                  2    0.994737"
      ]
     },
     "execution_count": 20,
     "metadata": {},
     "output_type": "execute_result"
    }
   ],
   "source": [
    "gs_DT.fit(D_train[:, fs_indices_rfi], t_train);\n",
    "print(\"\\nBest Parameters for Decision Tree\") \n",
    "print(gs_DT.best_params_)\n",
    "print(\"\\nBest Score for Decision Tree\")\n",
    "print(gs_DT.best_score_)\n",
    "print(\"\\nGrid Search Results for Decision Tree\") \n",
    "results_DT = pd.DataFrame(gs_DT.cv_results_['params'])\n",
    "results_DT['test_score'] = gs_DT.cv_results_['mean_test_score']\n",
    "results_DT"
   ]
  },
  {
   "cell_type": "markdown",
   "metadata": {},
   "source": [
    "After 5-fold stratified cross validation with 3 repetitions, We observe that the best parameters for DT are found to be criterion = gini , min_samples_split = 2 and max_depth = 6 .The mean AUC score with the best parameters is found to be 0.9947.\n",
    "\n",
    "Plotting the Grid Search Result for each iteration. "
   ]
  },
  {
   "cell_type": "code",
   "execution_count": 21,
   "metadata": {},
   "outputs": [
    {
     "name": "stdout",
     "output_type": "stream",
     "text": [
      "\n",
      "DT Performance Comparison\n"
     ]
    },
    {
     "data": {
      "text/plain": [
       "<matplotlib.axes._subplots.AxesSubplot at 0xdd41a90>"
      ]
     },
     "execution_count": 21,
     "metadata": {},
     "output_type": "execute_result"
    },
    {
     "data": {
      "image/png": "[encoded data removed]",
      "text/plain": [
       "<Figure size 432x288 with 1 Axes>"
      ]
     },
     "metadata": {
      "needs_background": "light"
     },
     "output_type": "display_data"
    }
   ],
   "source": [
    "print(\"\\nDT Performance Comparison\")\n",
    "df_dt = results_DT.pivot(index='max_depth',columns='criterion',values='test_score')\n",
    "df_dt.plot()"
   ]
  },
  {
   "cell_type": "markdown",
   "metadata": {},
   "source": [
    "The plot confirms that criterion = gini , min_samples_split = 2 and max_depth = 6 performs the best out of all other combinations. As the values for test-score was same for gini index and entropy for each max_depth, therefore the plot shows superimposed lines for gini index and entropy."
   ]
  },
  {
   "cell_type": "markdown",
   "metadata": {},
   "source": [
    "###  Gaussian Naive Bayes (NB)\n",
    "In hyperparameter tuning of NB, we perform grid search on parameter var_smoothing. The parameter for variance smoothing specifies the largest variance in all features to be added to variances for calculating stability.\n",
    "\n",
    "The Gaussian NB assumes that all the descriptive features are normally distributed. Since, it is highly unlikely in practice, we perform transformation using PowerTransformer, by defining a random variable with a mean of 2 and sample 1000 numbers.\n",
    "Here roc_auc is used as scoring metric because it is robust to imbalanced dataset where negative class dominates positive class.Though our data is balanced but to make the classifier robust against all types of dataset this is used."
   ]
  },
  {
   "cell_type": "code",
   "execution_count": 22,
   "metadata": {},
   "outputs": [
    {
     "name": "stdout",
     "output_type": "stream",
     "text": [
      "            x distribution\n",
      "342 -0.276524  transformed\n",
      "321  3.216755  exponential\n",
      "247  1.297923  transformed\n",
      "514 -1.678249  transformed\n",
      "343  0.204341  exponential\n",
      "386  0.486638  exponential\n",
      "304  0.883091  exponential\n",
      "772  0.015391  exponential\n",
      "889  0.184597  transformed\n",
      "554  0.076667  exponential\n"
     ]
    }
   ],
   "source": [
    "from sklearn.preprocessing import PowerTransformer\n",
    "np.random.seed(999)\n",
    "sample_size = 1000\n",
    "x_exponential = np.random.exponential(2, sample_size).reshape(-1, 1)\n",
    "x_transformed = PowerTransformer().fit_transform(x_exponential)\n",
    "df1 = pd.DataFrame(x_exponential)\n",
    "df1['distribution'] = 'exponential'\n",
    "df2 = pd.DataFrame(x_transformed)\n",
    "df2['distribution'] = 'transformed'\n",
    "# combine the two data frames into one to be used for plotting\n",
    "df = pd.concat([df1, df2], axis=0)\n",
    "df.rename(columns={0: 'x'}, inplace=True)\n",
    "print(df.sample(n=10))\n",
    "np.logspace(0,-9, num=10)\n",
    "from sklearn.naive_bayes import GaussianNB\n",
    "np.random.seed(999)\n",
    "nb_classifier = GaussianNB()\n",
    "params_NB = {'var_smoothing': np.logspace(0,-9, num=100)}\n",
    "gs_NB = GridSearchCV(estimator=nb_classifier, \n",
    "                     param_grid=params_NB, \n",
    "                     cv=cv_method,\n",
    "                     verbose=1, \n",
    "                     scoring='roc_auc')"
   ]
  },
  {
   "cell_type": "markdown",
   "metadata": {},
   "source": [
    "Now, fitting grid search NB on selected set of 10 features by RFI."
   ]
  },
  {
   "cell_type": "code",
   "execution_count": 23,
   "metadata": {},
   "outputs": [
    {
     "name": "stdout",
     "output_type": "stream",
     "text": [
      "Fitting 15 folds for each of 100 candidates, totalling 1500 fits\n"
     ]
    },
    {
     "name": "stderr",
     "output_type": "stream",
     "text": [
      "[Parallel(n_jobs=1)]: Using backend SequentialBackend with 1 concurrent workers.\n"
     ]
    },
    {
     "name": "stdout",
     "output_type": "stream",
     "text": [
      "\n",
      "Best Parameters for Naive Bayes\n",
      "{'var_smoothing': 2.310129700083158e-08}\n",
      "\n",
      "Best Score for Naive Bayes\n",
      "0.9858735196398886\n"
     ]
    },
    {
     "name": "stderr",
     "output_type": "stream",
     "text": [
      "[Parallel(n_jobs=1)]: Done 1500 out of 1500 | elapsed:   14.1s finished\n"
     ]
    },
    {
     "data": {
      "text/html": [
       "<div>\n",
       "<style scoped>\n",
       "    .dataframe tbody tr th:only-of-type {\n",
       "        vertical-align: middle;\n",
       "    }\n",
       "\n",
       "    .dataframe tbody tr th {\n",
       "        vertical-align: top;\n",
       "    }\n",
       "\n",
       "    .dataframe thead th {\n",
       "        text-align: right;\n",
       "    }\n",
       "</style>\n",
       "<table border=\"1\" class=\"dataframe\">\n",
       "  <thead>\n",
       "    <tr style=\"text-align: right;\">\n",
       "      <th></th>\n",
       "      <th>var_smoothing</th>\n",
       "      <th>test_score</th>\n",
       "    </tr>\n",
       "  </thead>\n",
       "  <tbody>\n",
       "    <tr>\n",
       "      <th>0</th>\n",
       "      <td>1.000000</td>\n",
       "      <td>0.981212</td>\n",
       "    </tr>\n",
       "    <tr>\n",
       "      <th>1</th>\n",
       "      <td>0.811131</td>\n",
       "      <td>0.981737</td>\n",
       "    </tr>\n",
       "    <tr>\n",
       "      <th>2</th>\n",
       "      <td>0.657933</td>\n",
       "      <td>0.981769</td>\n",
       "    </tr>\n",
       "    <tr>\n",
       "      <th>3</th>\n",
       "      <td>0.533670</td>\n",
       "      <td>0.981948</td>\n",
       "    </tr>\n",
       "    <tr>\n",
       "      <th>4</th>\n",
       "      <td>0.432876</td>\n",
       "      <td>0.982159</td>\n",
       "    </tr>\n",
       "  </tbody>\n",
       "</table>\n",
       "</div>"
      ],
      "text/plain": [
       "   var_smoothing  test_score\n",
       "0       1.000000    0.981212\n",
       "1       0.811131    0.981737\n",
       "2       0.657933    0.981769\n",
       "3       0.533670    0.981948\n",
       "4       0.432876    0.982159"
      ]
     },
     "execution_count": 23,
     "metadata": {},
     "output_type": "execute_result"
    }
   ],
   "source": [
    "Data_transformed = PowerTransformer().fit_transform(D_train[:, fs_indices_rfi])\n",
    "gs_NB.fit(Data_transformed, t_train);\n",
    "print(\"\\nBest Parameters for Naive Bayes\") \n",
    "print(gs_NB.best_params_)\n",
    "print(\"\\nBest Score for Naive Bayes\") \n",
    "print(gs_NB.best_score_)\n",
    "results_NB = pd.DataFrame(gs_NB.cv_results_['params'])\n",
    "results_NB['test_score'] = gs_NB.cv_results_['mean_test_score']\n",
    "results_NB.head()"
   ]
  },
  {
   "cell_type": "markdown",
   "metadata": {},
   "source": [
    "After 5-fold stratified cross validation with 3 repetitions, We observe that the best parameters for NB is found to be var_smoothing = 2.310129700083158e-08 .The mean AUC score with the best parameters is found to be 0.9858."
   ]
  },
  {
   "cell_type": "markdown",
   "metadata": {},
   "source": [
    "## Performance Comparision\n",
    "The three classifier has been optimized above with help of training dataset and now we optimize these classfiers with help of test data using the cross validation which is itself a random process.Further pairWise t-test is performed in order to understand any difference between the performance of any two optimized classifiers is statistically significant. We first, perform 5-fold stratified cross-validation on each best model (without any repetitions). Second, we conduct a paired t-test for the AUC score between the following model combinations:\n",
    "\n",
    "* K Nearest-Neighbor vs Naive Bayes\n",
    "* K Nearest-Neighbor vs Decision Tree\n",
    "* Decision Tree vs Naive Bayes"
   ]
  },
  {
   "cell_type": "code",
   "execution_count": 25,
   "metadata": {},
   "outputs": [
    {
     "data": {
      "text/plain": [
       "0.99"
      ]
     },
     "execution_count": 25,
     "metadata": {},
     "output_type": "execute_result"
    }
   ],
   "source": [
    "cv_method_ttest = RepeatedStratifiedKFold(n_splits=5,  \n",
    "                                random_state=999)\n",
    "cv_results_KNN = cross_val_score(estimator=gs_KNN.best_estimator_,\n",
    "                                 X=D_test[:, fs_indices_rfi],\n",
    "                                 y=t_test, \n",
    "                                 cv=cv_method_ttest, \n",
    "                                 n_jobs=-2,\n",
    "                                 scoring='roc_auc')\n",
    "cv_results_KNN.mean().round(3)"
   ]
  },
  {
   "cell_type": "code",
   "execution_count": 26,
   "metadata": {},
   "outputs": [
    {
     "data": {
      "text/plain": [
       "0.994"
      ]
     },
     "execution_count": 26,
     "metadata": {},
     "output_type": "execute_result"
    }
   ],
   "source": [
    "cv_results_DT = cross_val_score(estimator=gs_DT.best_estimator_,\n",
    "                                 X=D_test[:, fs_indices_rfi],\n",
    "                                 y=t_test, \n",
    "                                 cv=cv_method_ttest, \n",
    "                                 n_jobs=-2,\n",
    "                                 scoring='roc_auc')\n",
    "cv_results_DT.mean().round(3)"
   ]
  },
  {
   "cell_type": "code",
   "execution_count": 27,
   "metadata": {},
   "outputs": [
    {
     "data": {
      "text/plain": [
       "0.986"
      ]
     },
     "execution_count": 27,
     "metadata": {},
     "output_type": "execute_result"
    }
   ],
   "source": [
    "D_transformed = PowerTransformer().fit_transform(D_test[:, fs_indices_rfi])\n",
    "\n",
    "cv_results_NB = cross_val_score(estimator=gs_NB.best_estimator_,\n",
    "                                 X=D_transformed,\n",
    "                                 y=t_test, \n",
    "                                 cv=cv_method_ttest, \n",
    "                                 n_jobs=-2,\n",
    "                                 scoring='roc_auc')\n",
    "cv_results_NB.mean().round(3)"
   ]
  },
  {
   "cell_type": "code",
   "execution_count": 28,
   "metadata": {
    "scrolled": true
   },
   "outputs": [
    {
     "name": "stdout",
     "output_type": "stream",
     "text": [
      "Ttest_relResult(statistic=10.199961217916917, pvalue=1.0390609078022574e-13)\n",
      "Ttest_relResult(statistic=10.717641417229473, pvalue=1.9183115165146602e-14)\n",
      "Ttest_relResult(statistic=12.069948932284488, pvalue=2.7289532094084873e-16)\n"
     ]
    }
   ],
   "source": [
    "## t-test\n",
    "from scipy import stats\n",
    "\n",
    "print(stats.ttest_rel(cv_results_KNN, cv_results_NB))\n",
    "print(stats.ttest_rel(cv_results_DT, cv_results_KNN))\n",
    "print(stats.ttest_rel(cv_results_DT, cv_results_NB))"
   ]
  },
  {
   "cell_type": "markdown",
   "metadata": {},
   "source": [
    "All the p-values are less than 0.05 which indicates a statistically significant difference. Looking at these results, we conclude that at a 95% significance level. On the basis of this test DT is statistically the best model out of all other models (in terms of AUC)."
   ]
  },
  {
   "cell_type": "markdown",
   "metadata": {},
   "source": [
    "## Performance Analysis \n",
    "All three classfiers with best parameters have been applied over the train data. Now these learnt classfiers predict the target labels for test data.To compare the performance of these three classifiers, the predicted labels for test data are compared to original labels for test data.\n",
    "\n",
    "Following Performance Evaluation creterion are used:\n",
    "* Accuracy\n",
    "* Confusion Matrix\n",
    "* F1-Score\n",
    "* Precision\n",
    "* Recall"
   ]
  },
  {
   "cell_type": "markdown",
   "metadata": {},
   "source": [
    "### Accuracy\n",
    "On the basis of Accuracy it can be said that DT outperforms both KNN and NB."
   ]
  },
  {
   "cell_type": "code",
   "execution_count": 29,
   "metadata": {},
   "outputs": [
    {
     "name": "stdout",
     "output_type": "stream",
     "text": [
      "\n",
      "Accuracy for K-Nearest Neighbor\n",
      "0.9626666666666667\n",
      "\n",
      "Accuracy for Decision Tree\n",
      "0.978\n",
      "\n",
      "Accuracy for Naive Bayes\n",
      "0.48\n"
     ]
    }
   ],
   "source": [
    "## KNN \n",
    "KNN_pred = gs_KNN.predict(D_test[:, fs_indices_rfi])\n",
    "from sklearn import metrics\n",
    "print(\"\\nAccuracy for K-Nearest Neighbor\") \n",
    "print(metrics.accuracy_score(t_test, KNN_pred))\n",
    "##DT\n",
    "DT_pred = gs_DT.predict(D_test[:, fs_indices_rfi])\n",
    "print(\"\\nAccuracy for Decision Tree\") \n",
    "print(metrics.accuracy_score(t_test, DT_pred))\n",
    "##NB\n",
    "NB_transformed = PowerTransformer().fit_transform(D_test[:, fs_indices_rfi])\n",
    "NB_pred = gs_NB.predict(NB_transformed)\n",
    "print(\"\\nAccuracy for Naive Bayes\") \n",
    "print(metrics.accuracy_score(t_test, NB_pred))"
   ]
  },
  {
   "cell_type": "markdown",
   "metadata": {},
   "source": [
    "### Confusion matrix\n",
    "* KNN : The Confusion matrix depicts the outcome for test data where 0 is depicted as poisonous mushrooms and 1 as edible mushrooms. The matrix suggests that 664 labels were correctly classified as poisonous mushrooms whereas 56 labels were mislabelled as edible mushrooms. The matrix also suggests that 780 labels were correctly classified as edible mushrooms whereas 0 labels were mislabelled as poisonous mushrooms. \n",
    "* DT : The Confusion matrix depicts the outcome for test data where 0 is depicted as poisonous mushrooms and 1 as edible mushrooms. The matrix suggests that 707 labels were correctly classified as poisonous mushrooms whereas 20 labels were mislabelled as edible mushrooms. The matrix also suggests that 760 labels were correctly classified as edible mushrooms whereas 13 labels were mislabelled as poisonous mushrooms. \n",
    "* NB : The Confusion matrix depicts the outcome for test data where 0 is depicted as poisonous mushrooms and 1 as edible mushrooms. The matrix suggests that 720 labels were correctly classified as poisonous mushrooms whereas 780 labels were mislabelled as edible mushrooms. The matrix also suggests that 0 labels were correctly classified as edible mushrooms whereas 0 labels were mislabelled as poisonous mushrooms. "
   ]
  },
  {
   "cell_type": "code",
   "execution_count": 30,
   "metadata": {},
   "outputs": [
    {
     "name": "stdout",
     "output_type": "stream",
     "text": [
      "\n",
      "Confusion matrix for K-Nearest Neighbor\n",
      "[[664  56]\n",
      " [  0 780]]\n",
      "\n",
      "Confusion matrix for Decision Tree\n",
      "[[707  13]\n",
      " [ 20 760]]\n",
      "\n",
      "Confusion matrix for Naive Bayes\n",
      "[[720   0]\n",
      " [780   0]]\n"
     ]
    }
   ],
   "source": [
    "##KNN\n",
    "print(\"\\nConfusion matrix for K-Nearest Neighbor\") \n",
    "print(metrics.confusion_matrix(t_test, KNN_pred))\n",
    "##DT\n",
    "print(\"\\nConfusion matrix for Decision Tree\") \n",
    "print(metrics.confusion_matrix(t_test, DT_pred))\n",
    "##NB\n",
    "print(\"\\nConfusion matrix for Naive Bayes\") \n",
    "print(metrics.confusion_matrix(t_test, NB_pred))"
   ]
  },
  {
   "cell_type": "markdown",
   "metadata": {},
   "source": [
    "### F1-score, precision, recall\n",
    "* Precision: The percentage of edible mushrooms prediction that are truly edible mushrooms. On the basis of Precision for positive class that is edible(1) it can be said that DT outperforms both KNN and NB . \n",
    "\n",
    "* Recall: The percentage of edible mushrooms predictions that were correctly labelled as edible mushrooms. On the basis of Recall for positive class that is edible(1) it can be said that KNN outperforms both DT and NB . \n",
    "\n",
    "* F1-Score: It is the harmonic mean of Precision and Recall. On the basis of F1-Score for positive class that is edible(1) it can be said that DT outperforms both KNN and NB.\n",
    "\n",
    "`From above analysis, we can deduce that DT is the best classifier on basis of F1-score which is weighted average of both precision and recall. As our objective is to minimize mushrooms which were falsely classified as edible but actually are poisonous.`"
   ]
  },
  {
   "cell_type": "code",
   "execution_count": 32,
   "metadata": {},
   "outputs": [
    {
     "name": "stdout",
     "output_type": "stream",
     "text": [
      "\n",
      "Classification report for K-Nearest Neighbor\n",
      "              precision    recall  f1-score   support\n",
      "\n",
      "           0       1.00      0.92      0.96       720\n",
      "           1       0.93      1.00      0.97       780\n",
      "\n",
      "   micro avg       0.96      0.96      0.96      1500\n",
      "   macro avg       0.97      0.96      0.96      1500\n",
      "weighted avg       0.97      0.96      0.96      1500\n",
      "\n",
      "\n",
      "Classification report for Decision Tree\n",
      "              precision    recall  f1-score   support\n",
      "\n",
      "           0       0.97      0.98      0.98       720\n",
      "           1       0.98      0.97      0.98       780\n",
      "\n",
      "   micro avg       0.98      0.98      0.98      1500\n",
      "   macro avg       0.98      0.98      0.98      1500\n",
      "weighted avg       0.98      0.98      0.98      1500\n",
      "\n",
      "\n",
      "Classification report for Naive Bayes\n",
      "              precision    recall  f1-score   support\n",
      "\n",
      "           0       0.48      1.00      0.65       720\n",
      "           1       0.00      0.00      0.00       780\n",
      "\n",
      "   micro avg       0.48      0.48      0.48      1500\n",
      "   macro avg       0.24      0.50      0.32      1500\n",
      "weighted avg       0.23      0.48      0.31      1500\n",
      "\n"
     ]
    }
   ],
   "source": [
    "##KNN\n",
    "print(\"\\nClassification report for K-Nearest Neighbor\") \n",
    "print(metrics.classification_report(t_test, KNN_pred))\n",
    "##DT\n",
    "print(\"\\nClassification report for Decision Tree\") \n",
    "print(metrics.classification_report(t_test, DT_pred))\n",
    "##NB\n",
    "print(\"\\nClassification report for Naive Bayes\") \n",
    "print(metrics.classification_report(t_test, NB_pred))"
   ]
  },
  {
   "cell_type": "markdown",
   "metadata": {},
   "source": [
    "## Limitations and Proposed Solutions:\n",
    "* The main limitations in our modeling strategy is that the dataset with full set of features is giving 100% accuracy which is implies overfitting or data leakage. In depth analysis can be done to rectify this problem.\n",
    "\n",
    "* Feature Selection is done only with help of one technique RFI. Furthermore, other feature selection techniques and depth analysis on feature selection can be done.\n",
    "\n",
    "* A small subset of dataset was taken in account for ease of analysis but with given set of hardware and equipments, full dataset can be analyised properly."
   ]
  },
  {
   "cell_type": "markdown",
   "metadata": {},
   "source": [
    "## Summary:\n",
    "The Decision Tree Classifier with 10 most important features selected by Random Forest Importance(RFI) produces highest cross-validated AUC score on the training data. The Decision Tree model, when evaluated on the test set, also outperformed both Naive Bayes and K-Nearest Neighbor models with respect to AUC. Moreover, we observed that, the models are highly sensitive to the number of features as full set of features leads to 100% accuracy, which in turn, leads to over fitting. Hence, it is seemingly appropriate that, working with 10 most features results in models that are easier to train and understand. "
   ]
  },
  {
   "cell_type": "markdown",
   "metadata": {},
   "source": [
    "## References:\n",
    "1.  John D. Kelleher, Brian Mac Namee, Aoife D’Arcy : FUNDAMENTALS OF MACHINE LEARNING FOR PREDICTIVE\n",
    "DATA ANALYTICS- Algorithms, Worked Examples, and Case Studies, 2015. (Sections 1, 4.2.1, 4.2.2)\n",
    "\n",
    "2. Aurélien Géron : Hands-On Machine Learning with Scikit-Learn and TensorFlow- Concepts, Tools, and Techniques to Build Intelligent Systems, 2017. (Section I.6, I.7)\n",
    "\n",
    "3. Wes McKinney: Python for Data Analysis - Data Wrangling with Pandas, NumPy, and IPython, 2018. (Section 1.3, 1.4, 2.2.2)\n",
    "\n"
   ]
  }
 ],
 "metadata": {
  "kernelspec": {
   "display_name": "Python 2",
   "language": "python",
   "name": "python2"
  },
  "language_info": {
   "codemirror_mode": {
    "name": "ipython",
    "version": 2
   },
   "file_extension": ".py",
   "mimetype": "text/x-python",
   "name": "python",
   "nbconvert_exporter": "python",
   "pygments_lexer": "ipython2",
   "version": "2.7.15"
  }
 },
 "nbformat": 4,
 "nbformat_minor": 2
}
